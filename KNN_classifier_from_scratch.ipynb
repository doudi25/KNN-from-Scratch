{
  "nbformat": 4,
  "nbformat_minor": 0,
  "metadata": {
    "colab": {
      "provenance": [],
      "authorship_tag": "ABX9TyMFBc7se9b4BPg7YriS7VV3",
      "include_colab_link": true
    },
    "kernelspec": {
      "name": "python3",
      "display_name": "Python 3"
    },
    "language_info": {
      "name": "python"
    }
  },
  "cells": [
    {
      "cell_type": "markdown",
      "metadata": {
        "id": "view-in-github",
        "colab_type": "text"
      },
      "source": [
        "<a href=\"https://colab.research.google.com/github/doudi25/KNN-from-scratch/blob/main/KNN_classifier_from_scratch.ipynb\" target=\"_parent\"><img src=\"https://colab.research.google.com/assets/colab-badge.svg\" alt=\"Open In Colab\"/></a>"
      ]
    },
    {
      "cell_type": "code",
      "execution_count": 22,
      "metadata": {
        "id": "bP0sd4XtPwQg"
      },
      "outputs": [],
      "source": [
        "import numpy as np\n",
        "class KNeighborsClassifier:\n",
        "  def __init__(self,metric='l2',K=1):\n",
        "    if metric=='l2':\n",
        "      self.metric='euclidian distance'\n",
        "    elif metric=='l1':\n",
        "      self.metric='manhatten distance'\n",
        "    else:\n",
        "      raise ValueError(\"Uncorrect choice , use 'l2' or 'l1'\")\n",
        "    self.NN=K\n",
        "  def train(self,X,Y):\n",
        "    self.X_train=X\n",
        "    self.Y_train=Y\n",
        "  def compute_distances(self,X):\n",
        "    if self.metric=='euclidian distance':\n",
        "      dists=np.sqrt(np.reshape(np.sum(X**2,axis=1),[X.shape[0],1])+np.sum(self.X_train**2,axis=1)-2*X@self.X_train.T)\n",
        "    elif self.metric=='manhatten distance':\n",
        "      dists=np.zeros((X.shape[0],self.X_train.shape[0]))\n",
        "      for i in range(X.shape[0]):\n",
        "        dists[i,:]= np.sum(np.abs(self.X_train-X[i,:]),axis=1)\n",
        "    return dists\n",
        "  def predict(self, X):\n",
        "        dists = self.compute_distances(X)\n",
        "        indices = np.argsort(dists, axis=1)\n",
        "        y_labels = np.zeros(X.shape[0])\n",
        "        for i in range(X.shape[0]):\n",
        "            closest_y = self.Y_train[indices[i, :self.NN]]\n",
        "            y_labels[i] = np.bincount(closest_y).argmax()\n",
        "        return y_labels\n",
        "\n"
      ]
    },
    {
      "cell_type": "code",
      "source": [
        "X_train = np.array([[1, 2], [3, 4], [5, 6], [7, 8]])\n",
        "Y_train = np.array([0, 1, 0, 1])\n",
        "\n",
        "X_test = np.array([[1, 2], [3, 4]])\n",
        "\n",
        "knn = KNeighborsClassifier(metric='l2', K=2)\n",
        "\n",
        "knn.train(X_train, Y_train)\n",
        "\n",
        "y_pred = knn.predict(X_test)\n",
        "print(\"Predicted labels:\", y_pred)"
      ],
      "metadata": {
        "colab": {
          "base_uri": "https://localhost:8080/"
        },
        "id": "d9scUhFQZ_M0",
        "outputId": "5f709847-c6df-47c4-b9c5-72e5eb41fe79"
      },
      "execution_count": 23,
      "outputs": [
        {
          "output_type": "stream",
          "name": "stdout",
          "text": [
            "Predicted labels: [0. 0.]\n"
          ]
        }
      ]
    },
    {
      "cell_type": "code",
      "source": [],
      "metadata": {
        "id": "nGoJ8JnaaNVL"
      },
      "execution_count": null,
      "outputs": []
    }
  ]
}